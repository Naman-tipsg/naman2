{
  "nbformat": 4,
  "nbformat_minor": 0,
  "metadata": {
    "colab": {
      "provenance": []
    },
    "kernelspec": {
      "name": "python3",
      "display_name": "Python 3"
    },
    "language_info": {
      "name": "python"
    }
  },
  "cells": [
    {
      "cell_type": "markdown",
      "source": [
        "1. the `Person` class has a constructor that takes `name` and `age` as arguments and assigns them to the object's attributes. The `introduce` method is then invoked on the object to introduce the person."
      ],
      "metadata": {
        "id": "m2EOEitLQMB1"
      }
    },
    {
      "cell_type": "code",
      "source": [
        "#ans-1\n",
        "class person:\n",
        "  def __init__(self,name,age):\n",
        "    self.name = name\n",
        "    self.age = age\n",
        "\n",
        "  def my_detail(self):\n",
        "    print(f\"I am  {self.name} and i am {self.age} year old\")\n"
      ],
      "metadata": {
        "id": "V8y48KinFHCT"
      },
      "execution_count": null,
      "outputs": []
    },
    {
      "cell_type": "code",
      "source": [
        "person1= person(\"naman\", 18)\n",
        "person1.my_detail()"
      ],
      "metadata": {
        "colab": {
          "base_uri": "https://localhost:8080/"
        },
        "id": "aTtMlJHKIIbU",
        "outputId": "6eb5571f-0cce-41c8-c73e-2c9dea2eebde"
      },
      "execution_count": null,
      "outputs": [
        {
          "output_type": "stream",
          "name": "stdout",
          "text": [
            "I am  naman and i am 18 year old\n"
          ]
        }
      ]
    },
    {
      "cell_type": "markdown",
      "source": [
        "2. the `Car` class has a constructor that takes `brand` and `model` as arguments and assigns them to the object's attributes. The `display_info` method is then invoked on the object to display the car's brand and model."
      ],
      "metadata": {
        "id": "KbZ7eby1QRqa"
      }
    },
    {
      "cell_type": "code",
      "source": [
        "#ans-2\n",
        "class car:\n",
        "  def __init__(self,brand,model):\n",
        "    self.brand = brand\n",
        "    self.model = model\n",
        "\n",
        "  def my_car(self):\n",
        "    print(f\"car brand is {self.brand} and modal {self.model} classic s11 4wd\")"
      ],
      "metadata": {
        "id": "BQeMYgHXI068"
      },
      "execution_count": null,
      "outputs": []
    },
    {
      "cell_type": "code",
      "source": [
        "car1 = car(\"mahindra\",\"scorpio\")\n",
        "car1.my_car()"
      ],
      "metadata": {
        "colab": {
          "base_uri": "https://localhost:8080/"
        },
        "id": "BqUAW-rYKkOl",
        "outputId": "0b4d0617-6bd5-4931-d878-7b3b23945915"
      },
      "execution_count": null,
      "outputs": [
        {
          "output_type": "stream",
          "name": "stdout",
          "text": [
            "car brand is mahindra and modal scorpio classic s11 4wd\n"
          ]
        }
      ]
    },
    {
      "cell_type": "markdown",
      "source": [
        "3. the `BankAccount` class has a constructor that takes `account_number` and `balance` as arguments and assigns them to the object's attributes. The `display_balance` method is then invoked on the object to display the account number and balance."
      ],
      "metadata": {
        "id": "VVfvn3e1QaJt"
      }
    },
    {
      "cell_type": "code",
      "source": [
        "#ans-3\n",
        "class bankaccount:\n",
        "  def __init__(self,account_number,balance):\n",
        "    self.account_number = account_number\n",
        "    self.balance = balance\n",
        "\n",
        "  def display_balance(self):\n",
        "    print(f\"You have {self.balance} balance in account no {self.account_number}\")\n"
      ],
      "metadata": {
        "id": "0LsNmnHJNZvU"
      },
      "execution_count": null,
      "outputs": []
    },
    {
      "cell_type": "code",
      "source": [
        "account1 = bankaccount(1234,\"zero\")\n",
        "account1.display_balance()"
      ],
      "metadata": {
        "colab": {
          "base_uri": "https://localhost:8080/"
        },
        "id": "0j0Ve_C1TsGh",
        "outputId": "8e2de0d6-10fb-4fc4-e6d9-ef52c6a9c632"
      },
      "execution_count": null,
      "outputs": [
        {
          "output_type": "stream",
          "name": "stdout",
          "text": [
            "You have zero balance in account no 1234\n"
          ]
        }
      ]
    },
    {
      "cell_type": "markdown",
      "source": [
        "4.  the `MobilePhone` class has a constructor that takes `brand` and `model` as arguments and assigns them to the object's attributes. The `make_call` method is then invoked on the object to make a call with the phone."
      ],
      "metadata": {
        "id": "zih3I1QKQfGX"
      }
    },
    {
      "cell_type": "code",
      "source": [
        "#ans-4\n",
        "class mobilephone:\n",
        "  def __init__(self,brand,model):\n",
        "    self.brand = brand\n",
        "    self.model = model\n",
        "\n",
        "  def make_call(self):\n",
        "    print(f\"mobile {self.brand} modal {self.model} is lonched\")"
      ],
      "metadata": {
        "id": "DYHjHlA7YAXh"
      },
      "execution_count": null,
      "outputs": []
    },
    {
      "cell_type": "code",
      "source": [
        "mobilephone1 = mobilephone(\"i phone\",\"16pro plus\")\n",
        "mobilephone1.make_call()"
      ],
      "metadata": {
        "colab": {
          "base_uri": "https://localhost:8080/"
        },
        "id": "uLg9gVpvFilh",
        "outputId": "3604be33-75c9-4e5c-ceb1-1b0855e2e8b1"
      },
      "execution_count": null,
      "outputs": [
        {
          "output_type": "stream",
          "name": "stdout",
          "text": [
            "mobile i phone modal 16pro plus is lonched\n"
          ]
        }
      ]
    },
    {
      "cell_type": "markdown",
      "source": [
        "5. the `Book` class has a constructor that takes `title` and `author` as arguments and assigns them to the object's attributes. The `display_info` method is then invoked on the object to display the book's title and author."
      ],
      "metadata": {
        "id": "JykJuk-fQjor"
      }
    },
    {
      "cell_type": "code",
      "source": [
        "#ans-5\n",
        "class book:\n",
        "  def __init__(self,title,author):\n",
        "    self.title = title\n",
        "    self.author = author\n",
        "\n",
        "  def display_info(self):\n",
        "    print(f\"book {self.title} written by {self.author}\")"
      ],
      "metadata": {
        "id": "KXENTSqIHDC4"
      },
      "execution_count": null,
      "outputs": []
    },
    {
      "cell_type": "code",
      "source": [
        "book1 = book(\"ak tha tiger\",\"salman khan\")\n",
        "book1.display_info()"
      ],
      "metadata": {
        "colab": {
          "base_uri": "https://localhost:8080/"
        },
        "id": "urwyhF11INry",
        "outputId": "8efe9a69-c291-43bc-9ee4-c9fdd021a5c2"
      },
      "execution_count": null,
      "outputs": [
        {
          "output_type": "stream",
          "name": "stdout",
          "text": [
            "book ak tha tiger written by salman khan\n"
          ]
        }
      ]
    },
    {
      "cell_type": "markdown",
      "source": [
        "6. Vehicles: Create a base class called Vehicle with attributes such as make, model, and year. Implement two subclasses Car and Motorcycle that inherit from Vehicle. Add additional methods to the subclasses, such as start_engine() and stop_engine(), and handle any specific behavior or rules for each vehicle type.\n"
      ],
      "metadata": {
        "id": "d7iqPoZvQrSn"
      }
    },
    {
      "cell_type": "code",
      "source": [
        "#ans-6\n",
        "class vehicle:\n",
        "    def __init__(self,name, modal,year):\n",
        "        self.name = name\n",
        "        self.modal = modal\n",
        "        self.year = year\n",
        "\n",
        "    def start_engine(self):\n",
        "        pass\n",
        "\n"
      ],
      "metadata": {
        "id": "GqUQFhzaJRSx"
      },
      "execution_count": null,
      "outputs": []
    },
    {
      "cell_type": "code",
      "source": [
        "class car(vehicle):\n",
        "    def __init__(self,name, modal,year):\n",
        "        self.name = name\n",
        "        self.modal = modal\n",
        "        self.year = year\n",
        "\n",
        "    def stop_engine(self):\n",
        "      print(f\"The engine of {self.name} {self.modal} is stopped.\")\n",
        "    def start_engine(self):\n",
        "      print(f\"the engine of {self.name} {self.modal} is started\")\n",
        "\n",
        "class motercycle(vehicle):\n",
        "    def __init__(self,name, modal,year):\n",
        "        self.name = name\n",
        "        self.modal = modal\n",
        "        self.year = year\n",
        "\n",
        "    def stop_engine(self):\n",
        "      print(f\"The engine of {self.name} {self.modal} is stopped.\")\n",
        "    def start_engine(self):\n",
        "      print(f\"the engine of {self.name} {self.modal} is started\")\n"
      ],
      "metadata": {
        "id": "H0OSzPjjR-UV"
      },
      "execution_count": null,
      "outputs": []
    },
    {
      "cell_type": "code",
      "source": [
        "vehicle1=car(\"alto\",\"vxi\" , 2016, )\n",
        "vehicle1.start_engine()"
      ],
      "metadata": {
        "colab": {
          "base_uri": "https://localhost:8080/"
        },
        "id": "l6GCwJYcbnoE",
        "outputId": "fea58e80-335f-4db7-869a-e5ffe64c701c"
      },
      "execution_count": null,
      "outputs": [
        {
          "output_type": "stream",
          "name": "stdout",
          "text": [
            "the engine of alto vxi is started\n"
          ]
        }
      ]
    },
    {
      "cell_type": "markdown",
      "source": [
        "7. Animals: Create a base class called Animal with methods such as eat() and sleep(). Implement two subclasses Dog and Cat that inherit from Animal. Add additional methods to the subclasses, such as bark() for dogs and meow() for cats, and handle any specific behavior or rules for each animal type.\n"
      ],
      "metadata": {
        "id": "yQ_x6STwc5XN"
      }
    },
    {
      "cell_type": "code",
      "source": [
        "class animals:\n",
        "    def __init__(self,eat,sleep):\n",
        "        self.eat = eat\n",
        "        self.sleep = sleep\n",
        "\n",
        "\n",
        "    def sound(self):\n",
        "        pass\n",
        "\n"
      ],
      "metadata": {
        "id": "71QMHH8Bc2KM"
      },
      "execution_count": null,
      "outputs": []
    },
    {
      "cell_type": "code",
      "source": [
        "class dog(animals):\n",
        "   def __init__(self,eat,sleep):\n",
        "        self.eat = eat\n",
        "        self.sleep = sleep\n",
        "\n",
        "   def bark(self):\n",
        "       print(f\"the eat is a {self.eat} and sleep is {self.sleep}\")"
      ],
      "metadata": {
        "id": "8WKJM_gMK_jc"
      },
      "execution_count": null,
      "outputs": []
    },
    {
      "cell_type": "code",
      "source": [
        "class cat(animals):\n",
        "   def __init__(self,eat,sleep):\n",
        "        self.eat = eat\n",
        "        self.sleep = sleep\n",
        "\n",
        "   def meow(self):\n",
        "       print(f\"the eat is a {self.eat} and sleep is {self.sleep}\")"
      ],
      "metadata": {
        "id": "jQQd5pLEL1wu"
      },
      "execution_count": null,
      "outputs": []
    },
    {
      "cell_type": "code",
      "source": [
        "dog1=dog(\"bread\" ,\"6 to 7 hours a day\")\n",
        "dog1.bark()"
      ],
      "metadata": {
        "colab": {
          "base_uri": "https://localhost:8080/"
        },
        "id": "styXh3e_MBd-",
        "outputId": "5add82fb-ce70-402e-f08f-6adbac459177"
      },
      "execution_count": null,
      "outputs": [
        {
          "output_type": "stream",
          "name": "stdout",
          "text": [
            "the eat is a bread and sleep is 6 to 7 hours a day\n"
          ]
        }
      ]
    },
    {
      "cell_type": "code",
      "source": [
        "cat1=cat(\"chapati\" ,\"10 to 11 hours a day\")\n",
        "cat1.meow()"
      ],
      "metadata": {
        "colab": {
          "base_uri": "https://localhost:8080/"
        },
        "id": "GSvBRRAjNVSW",
        "outputId": "5847b4eb-cd6c-4b29-b9cd-80d6adbe0038"
      },
      "execution_count": null,
      "outputs": [
        {
          "output_type": "stream",
          "name": "stdout",
          "text": [
            "the eat is a chapati and sleep is 10 to 11 hours a day\n"
          ]
        }
      ]
    },
    {
      "cell_type": "markdown",
      "source": [
        "8. Library Catalog: Create a base class called LibraryItem with attributes such as title, author, and publication_year. Implement two subclasses Book and Magazine that inherit from LibraryItem. Add additional methods to the subclasses, such as checkout() and return_item(), and handle any specific behavior or rules for each item type."
      ],
      "metadata": {
        "id": "SP3vjbilNK-A"
      }
    },
    {
      "cell_type": "code",
      "source": [
        "#ans-8\n",
        "class library:\n",
        "  def __init__(self,title,author,publication_year):\n",
        "    self.title= title\n",
        "    self.author = author\n",
        "    self.publication_year = publication_year\n",
        "\n",
        "  def work(self):\n",
        "   pass"
      ],
      "metadata": {
        "id": "0bTGDntnMr_u"
      },
      "execution_count": null,
      "outputs": []
    },
    {
      "cell_type": "code",
      "source": [
        "class book(library):\n",
        "  def __init__(self,title,author,publication_year):\n",
        "    self.title= title\n",
        "    self.author = author\n",
        "    self.publication_year = publication_year\n",
        "\n",
        "  def checkout(self):\n",
        "    print(f\"{self.title} {self.author} {self.publication_year}\")\n",
        "  def return_item(self):\n",
        "    print(f\"{self.title} {self.author} {self.publication_year}\")\n",
        "\n"
      ],
      "metadata": {
        "id": "VPEhlDI1N9wI"
      },
      "execution_count": null,
      "outputs": []
    },
    {
      "cell_type": "code",
      "source": [
        "class magniz(library):\n",
        "  def __init__(self,title,author,publication_year):\n",
        "    self.title= title\n",
        "    self.author = author\n",
        "    self.publication_year = publication_year\n",
        "\n",
        "  def return_item(self):\n",
        "    print(f\"{self.title} {self.author} {self.publication_year}\")\n",
        "  def checkout(self):\n",
        "    print(f\"{self.title} {self.author} {self.publication_year}\")\n"
      ],
      "metadata": {
        "id": "qJ_vmPP3RP6f"
      },
      "execution_count": null,
      "outputs": []
    },
    {
      "cell_type": "code",
      "source": [
        "book1=book(\"jai hind\" ,\"kesori lal\",1906)\n",
        "book1.checkout()\n",
        "book1=book(\"jai hind\" ,\"kesori lal\",1906)\n",
        "book1.return_item()"
      ],
      "metadata": {
        "colab": {
          "base_uri": "https://localhost:8080/"
        },
        "id": "ckvDLeqwRvqk",
        "outputId": "d4e50ed3-ec09-4580-c8bb-323a24ca72c1"
      },
      "execution_count": null,
      "outputs": [
        {
          "output_type": "stream",
          "name": "stdout",
          "text": [
            "jai hind kesori lal 1906\n",
            "jai hind kesori lal 1906\n"
          ]
        }
      ]
    },
    {
      "cell_type": "code",
      "source": [
        "magniz1=magniz(\"home\" ,\" hemash\",1901)\n",
        "magniz1.checkout()\n",
        "magniz1=magniz(\"home\" ,\" hemash\",1901)\n",
        "magniz1.return_item()\n"
      ],
      "metadata": {
        "colab": {
          "base_uri": "https://localhost:8080/"
        },
        "id": "GIlPPFpnStK6",
        "outputId": "9e2a1c58-15be-4428-cdca-9054104c89f5"
      },
      "execution_count": null,
      "outputs": [
        {
          "output_type": "stream",
          "name": "stdout",
          "text": [
            "home  hemash 1901\n",
            "home  hemash 1901\n"
          ]
        }
      ]
    },
    {
      "cell_type": "markdown",
      "source": [
        "9. Employees and Departments: Create a base class called Employee with attributes such as name, salary, and department. Implement two subclasses Manager and Staff that inherit from Employee. Add additional methods to the subclasses, such as assign_task() for managers and attend_meeting() for staff members. Create a separate class called Department that contains a list of employees and methods to add or remove employees from the department.\n"
      ],
      "metadata": {
        "id": "YHsSBJDhTXHr"
      }
    },
    {
      "cell_type": "code",
      "source": [
        "class employe:\n",
        "\n",
        "  def __init__(self,name,salry,depatment):\n",
        "\n",
        "    self.name= name\n",
        "    self.salry = salry\n",
        "    self.depatment= depatment"
      ],
      "metadata": {
        "id": "Gn29-cOoTWkM"
      },
      "execution_count": null,
      "outputs": []
    },
    {
      "cell_type": "code",
      "source": [
        "class manager(employe):\n",
        "  def __init__(self,name,salry,depatment):\n",
        "\n",
        "    self.name= name\n",
        "    self.salry = salry\n",
        "    self.depatment= depatment\n",
        "  def assign_task(self):\n",
        "    print(f\"{self.name} {self.salry} {self.depatment}\")"
      ],
      "metadata": {
        "id": "UDzVwYU7VJCS"
      },
      "execution_count": null,
      "outputs": []
    },
    {
      "cell_type": "code",
      "source": [
        "class staff(employe):\n",
        "  def __init__(self,name,salry,depatment):\n",
        "\n",
        "    self.name= name\n",
        "    self.salry = salry\n",
        "    self.depatment= depatment\n",
        "  def attend_meeting(self):\n",
        "    print(f\"{self.name} {self.salry} {self.depatment}\")"
      ],
      "metadata": {
        "id": "UkHsGwP3WJup"
      },
      "execution_count": null,
      "outputs": []
    },
    {
      "cell_type": "code",
      "source": [
        "manager1=manager(\"naman\",\"100000\",\"busniess\")\n",
        "manager1.assign_task()"
      ],
      "metadata": {
        "colab": {
          "base_uri": "https://localhost:8080/"
        },
        "id": "pBCWVr7wWhL_",
        "outputId": "e0229c44-d0a4-4a57-a068-a5fc7e9fbbad"
      },
      "execution_count": null,
      "outputs": [
        {
          "output_type": "stream",
          "name": "stdout",
          "text": [
            "naman 100000 busniess\n"
          ]
        }
      ]
    },
    {
      "cell_type": "code",
      "source": [
        "staff1=staff(\"anuj\",\"10000\",\"ai\")\n",
        "staff1.attend_meeting()"
      ],
      "metadata": {
        "colab": {
          "base_uri": "https://localhost:8080/"
        },
        "id": "AFavwRh5ika_",
        "outputId": "601faec8-ef35-4970-c57f-f29a9bf18da4"
      },
      "execution_count": null,
      "outputs": [
        {
          "output_type": "stream",
          "name": "stdout",
          "text": [
            "anuj 10000 ai\n"
          ]
        }
      ]
    },
    {
      "cell_type": "markdown",
      "source": [
        "10. Bank Transactions: Create a base class called BankAccount with attributes such as account_number and balance. Implement subclasses for different types of accounts such as CheckingAccount and SavingsAccount that inherit from BankAccount. Add additional methods to the subclasses, such as withdraw() and deposit(), and handle any specific behavior or rules for each account type.\n"
      ],
      "metadata": {
        "id": "WA96n-IRYbjz"
      }
    },
    {
      "cell_type": "code",
      "source": [
        "class bankaccount:\n",
        "\n",
        "  def __init__(self,account_number,balance):\n",
        "\n",
        "    self.account= account_number\n",
        "    self.balance = balance"
      ],
      "metadata": {
        "id": "p1THtIKEXYfo"
      },
      "execution_count": null,
      "outputs": []
    },
    {
      "cell_type": "code",
      "source": [
        "class checkingaccount(bankaccount):\n",
        "  def __init__(self,account_number,balance):\n",
        "    self.account_number = account_number\n",
        "    self.balance = balance\n",
        "  def wedrow(self):\n",
        "    print(f\"{self.account_number}  {self.balance}\")"
      ],
      "metadata": {
        "id": "dWMfnr2ZfcvC"
      },
      "execution_count": null,
      "outputs": []
    },
    {
      "cell_type": "code",
      "source": [
        "class savingaccount(bankaccount):\n",
        "  def __init__(self,account_number,balance):\n",
        "    self.account_number = account_number\n",
        "    self.balance = balance\n",
        "  def deposit(self):\n",
        "    print(f\"{self.account_number}  {self.balance}\")\n"
      ],
      "metadata": {
        "id": "PRY9CYJSfgOL"
      },
      "execution_count": null,
      "outputs": []
    },
    {
      "cell_type": "code",
      "source": [
        "checkingaccount1=checkingaccount(\"964949\",\"2000\")\n",
        "checkingaccount1.wedrow()"
      ],
      "metadata": {
        "colab": {
          "base_uri": "https://localhost:8080/"
        },
        "id": "p0pej7-mdUFs",
        "outputId": "bd1517ca-1fe6-43d5-c425-49d164a6e114"
      },
      "execution_count": null,
      "outputs": [
        {
          "output_type": "stream",
          "name": "stdout",
          "text": [
            "964949  2000\n"
          ]
        }
      ]
    },
    {
      "cell_type": "code",
      "source": [
        "savingaccount1=savingaccount(\"675678\",\"40000\")\n",
        "savingaccount1.deposit()"
      ],
      "metadata": {
        "colab": {
          "base_uri": "https://localhost:8080/"
        },
        "id": "tGvH5ye_kSnO",
        "outputId": "0b8b6e3c-943b-4d61-afc7-763fee3d4ec5"
      },
      "execution_count": null,
      "outputs": [
        {
          "output_type": "stream",
          "name": "stdout",
          "text": [
            "675678  40000\n"
          ]
        }
      ]
    },
    {
      "cell_type": "markdown",
      "source": [
        "11. School Management System: Create a base class called Person with attributes such as name, age, and address. Implement subclasses for different roles such as Student, Teacher, and Staff that inherit from Person. Add additional methods to the subclasses, such as take_exam() for students and teach_subject() for teachers."
      ],
      "metadata": {
        "id": "iJnZVgbBehHw"
      }
    },
    {
      "cell_type": "code",
      "source": [
        "class person:\n",
        "\n",
        "  def __init__(self,name,age, address):\n",
        "\n",
        "    self.name= name\n",
        "    self.age= age\n",
        "    self.address=address\n"
      ],
      "metadata": {
        "id": "akdNAH67ek2k"
      },
      "execution_count": null,
      "outputs": []
    },
    {
      "cell_type": "code",
      "source": [
        "class student(person):\n",
        "\n",
        "  def __init__(self,name,age, address):\n",
        "\n",
        "    self.name= name\n",
        "    self.age= age\n",
        "    self.address=address\n",
        "\n",
        "  def take_exam(self):\n",
        "    print(f\"the name is {self.name}, age is {self.age},address is {self.address} \")\n"
      ],
      "metadata": {
        "id": "aaB5O_6XgUmt"
      },
      "execution_count": null,
      "outputs": []
    },
    {
      "cell_type": "code",
      "source": [
        "class teacher(person):\n",
        "\n",
        "  def __init__(self,name,age, address,subject):\n",
        "\n",
        "    self.name= name\n",
        "    self.age= age\n",
        "    self.address=address\n",
        "    self.subject=subject\n",
        "\n",
        "  def teach_subject(self):\n",
        "    print(f\"the name is {self.name}, age is {self.age},address is {self.address} is teaching me{self.subject} .\")"
      ],
      "metadata": {
        "id": "GFTnpfP3hX1y"
      },
      "execution_count": null,
      "outputs": []
    },
    {
      "cell_type": "code",
      "source": [
        "class staff(person):\n",
        "\n",
        "  def __init__(self,name,age, address,salry):\n",
        "\n",
        "    self.name= name\n",
        "    self.age= age\n",
        "    self.address=address\n",
        "    self.salry=salry\n",
        "  def employ(self):\n",
        "    print(f\" {self.name} {self.age} {self.address} {self.salry}\")\n"
      ],
      "metadata": {
        "id": "bLUnz7oriI8C"
      },
      "execution_count": null,
      "outputs": []
    },
    {
      "cell_type": "code",
      "source": [
        "student1=student(\"naman\",\"18\",\"harsoli\")\n",
        "student1.take_exam()\n"
      ],
      "metadata": {
        "colab": {
          "base_uri": "https://localhost:8080/"
        },
        "id": "v1r06h1lmEBf",
        "outputId": "c62e591f-610b-4a51-fb14-b320220a8a82"
      },
      "execution_count": null,
      "outputs": [
        {
          "output_type": "stream",
          "name": "stdout",
          "text": [
            "the name is naman, age is 18,address is harsoli \n"
          ]
        }
      ]
    },
    {
      "cell_type": "code",
      "source": [
        "teacher1= teacher(\"mahipal singh\",\"25\",\"jaipur\",\"python\")\n",
        "teacher1.teach_subject()\n",
        "teacher2=teacher(\"gejanand yadav\",\"25\",\"jaipur\",\"html\")\n",
        "teacher2.teach_subject()"
      ],
      "metadata": {
        "colab": {
          "base_uri": "https://localhost:8080/"
        },
        "id": "7N8fiTwBnpEV",
        "outputId": "58880b6a-fb6a-4ea2-d9b1-8190d572c2f5"
      },
      "execution_count": null,
      "outputs": [
        {
          "output_type": "stream",
          "name": "stdout",
          "text": [
            "the name is mahipal singh, age is 25,address is jaipur is teaching mepython .\n",
            "the name is gejanand yadav, age is 25,address is jaipur is teaching mehtml .\n"
          ]
        }
      ]
    },
    {
      "cell_type": "code",
      "source": [
        "staff1=staff(\"ram\",\"28\",\"alwar\",\"20000\")\n",
        "staff1.employ()\n"
      ],
      "metadata": {
        "colab": {
          "base_uri": "https://localhost:8080/"
        },
        "id": "hLBsHTJIo43M",
        "outputId": "ddfa5c19-4820-4022-9a68-2a95b98476b8"
      },
      "execution_count": null,
      "outputs": [
        {
          "output_type": "stream",
          "name": "stdout",
          "text": [
            " ram 28 alwar 20000\n"
          ]
        }
      ]
    },
    {
      "cell_type": "code",
      "source": [],
      "metadata": {
        "id": "9nXMGkZvqnlI"
      },
      "execution_count": null,
      "outputs": []
    }
  ]
}